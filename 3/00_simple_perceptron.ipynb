{
 "cells": [
  {
   "cell_type": "code",
   "execution_count": 2,
   "metadata": {
    "collapsed": false
   },
   "outputs": [],
   "source": [
    "import numpy as np"
   ]
  },
  {
   "cell_type": "code",
   "execution_count": 3,
   "metadata": {
    "collapsed": true
   },
   "outputs": [],
   "source": [
    "\n",
    "'''\n",
    "データの生成\n",
    "'''\n",
    "rng = np.random.RandomState(123)\n",
    "\n",
    "d = 2\n",
    "N = 10\n",
    "\n",
    "mean = 5\n",
    "\n",
    "x1 = rng.randn(N, d) + np.array([0, 0])\n",
    "x2 = rng.randn(N, d) + np.array([mean, mean])\n",
    "\n",
    "x = np.concatenate((x1, x2), axis=0)"
   ]
  },
  {
   "cell_type": "code",
   "execution_count": 4,
   "metadata": {
    "collapsed": false
   },
   "outputs": [
    {
     "name": "stdout",
     "output_type": "stream",
     "text": [
      "w: [ 2.14037745  1.2763927 ]\n",
      "b: -9\n",
      "\n",
      "Test:\n",
      "0\n",
      "1\n"
     ]
    }
   ],
   "source": [
    "\n",
    "'''\n",
    "単純パーセプトロン\n",
    "'''\n",
    "w = np.zeros(d)\n",
    "b = 0\n",
    "\n",
    "\n",
    "def y(x):\n",
    "    return step(np.dot(w, x) + b)\n",
    "\n",
    "\n",
    "def step(x):\n",
    "    return 1 * (x > 0)\n",
    "\n",
    "\n",
    "def t(i):\n",
    "    if i < N:\n",
    "        return 0\n",
    "    else:\n",
    "        return 1\n",
    "\n",
    "\n",
    "while True:\n",
    "    classified = True\n",
    "    for i in range(N * 2):\n",
    "        delta_w = (t(i) - y(x[i])) * x[i]\n",
    "        delta_b = (t(i) - y(x[i]))\n",
    "        w += delta_w\n",
    "        b += delta_b\n",
    "        classified *= all(delta_w == 0) * (delta_b == 0)\n",
    "    if classified:\n",
    "        break\n",
    "\n",
    "print('w:', w)\n",
    "print('b:', b)\n",
    "\n",
    "print('\\nTest:')\n",
    "print(y([0, 0]))  # => 0\n",
    "print(y([5, 5]))  # => 1"
   ]
  },
  {
   "cell_type": "code",
   "execution_count": null,
   "metadata": {
    "collapsed": true
   },
   "outputs": [],
   "source": []
  }
 ],
 "metadata": {
  "kernelspec": {
   "display_name": "Python 3",
   "language": "python",
   "name": "python3"
  },
  "language_info": {
   "codemirror_mode": {
    "name": "ipython",
    "version": 3
   },
   "file_extension": ".py",
   "mimetype": "text/x-python",
   "name": "python",
   "nbconvert_exporter": "python",
   "pygments_lexer": "ipython3",
   "version": "3.6.0"
  }
 },
 "nbformat": 4,
 "nbformat_minor": 2
}
